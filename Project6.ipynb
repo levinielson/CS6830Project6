{
 "cells": [
  {
   "cell_type": "markdown",
   "id": "4f34ca8b-7109-414b-9452-0bbc6730504a",
   "metadata": {},
   "source": [
    "# Linear Regression\n",
    "    1. Make 6 different regressions VS observed\n",
    "        1. Date – number of days since 01/01/0000\n",
    "        1. x - the spatial location of the gaging station at which observations are obtained\n",
    "        1. y – the spatial location of the gaging station at which observations are obtained\\\n",
    "        1. Evapotranspiration – the evapotranspiration amount of an area adjacent to the river segment in the given month\n",
    "        1. Precipitation - the precipitation amount of an area adjacent to the river segment in the given month\n",
    "        1. Irrigation pumping\n",
    "    2. Remember Date is categoircal (split by months)"
   ]
  },
  {
   "cell_type": "code",
   "execution_count": 21,
   "id": "a54a39aa-7442-485c-8b9e-0f3379a7c2f3",
   "metadata": {},
   "outputs": [],
   "source": [
    "import pandas as pd\n",
    "from sklearn.linear_model import LinearRegression\n",
    "import seaborn as sns"
   ]
  },
  {
   "cell_type": "code",
   "execution_count": 30,
   "id": "5cb3d4ea-2065-44e4-b783-f33ff3101002",
   "metadata": {},
   "outputs": [
    {
     "data": {
      "text/html": [
       "<div>\n",
       "<style scoped>\n",
       "    .dataframe tbody tr th:only-of-type {\n",
       "        vertical-align: middle;\n",
       "    }\n",
       "\n",
       "    .dataframe tbody tr th {\n",
       "        vertical-align: top;\n",
       "    }\n",
       "\n",
       "    .dataframe thead th {\n",
       "        text-align: right;\n",
       "    }\n",
       "</style>\n",
       "<table border=\"1\" class=\"dataframe\">\n",
       "  <thead>\n",
       "    <tr style=\"text-align: right;\">\n",
       "      <th></th>\n",
       "      <th>Date</th>\n",
       "      <th>Segment_id</th>\n",
       "      <th>x</th>\n",
       "      <th>y</th>\n",
       "      <th>Evapotranspiration</th>\n",
       "      <th>Precipitation</th>\n",
       "      <th>Irrigation_pumping</th>\n",
       "      <th>Observed</th>\n",
       "    </tr>\n",
       "  </thead>\n",
       "  <tbody>\n",
       "    <tr>\n",
       "      <th>0</th>\n",
       "      <td>710732</td>\n",
       "      <td>144</td>\n",
       "      <td>1086190</td>\n",
       "      <td>14476800</td>\n",
       "      <td>0.59</td>\n",
       "      <td>18.99</td>\n",
       "      <td>0.0</td>\n",
       "      <td>0.145161</td>\n",
       "    </tr>\n",
       "    <tr>\n",
       "      <th>1</th>\n",
       "      <td>710763</td>\n",
       "      <td>144</td>\n",
       "      <td>1086190</td>\n",
       "      <td>14476800</td>\n",
       "      <td>0.97</td>\n",
       "      <td>29.63</td>\n",
       "      <td>0.0</td>\n",
       "      <td>0.445161</td>\n",
       "    </tr>\n",
       "    <tr>\n",
       "      <th>2</th>\n",
       "      <td>710791</td>\n",
       "      <td>144</td>\n",
       "      <td>1086190</td>\n",
       "      <td>14476800</td>\n",
       "      <td>1.34</td>\n",
       "      <td>29.63</td>\n",
       "      <td>0.0</td>\n",
       "      <td>1.332203</td>\n",
       "    </tr>\n",
       "    <tr>\n",
       "      <th>3</th>\n",
       "      <td>710822</td>\n",
       "      <td>144</td>\n",
       "      <td>1086190</td>\n",
       "      <td>14476800</td>\n",
       "      <td>1.79</td>\n",
       "      <td>29.63</td>\n",
       "      <td>0.0</td>\n",
       "      <td>2.932203</td>\n",
       "    </tr>\n",
       "    <tr>\n",
       "      <th>4</th>\n",
       "      <td>710852</td>\n",
       "      <td>144</td>\n",
       "      <td>1086190</td>\n",
       "      <td>14476800</td>\n",
       "      <td>8.23</td>\n",
       "      <td>29.63</td>\n",
       "      <td>0.0</td>\n",
       "      <td>3.728689</td>\n",
       "    </tr>\n",
       "  </tbody>\n",
       "</table>\n",
       "</div>"
      ],
      "text/plain": [
       "     Date  Segment_id        x         y  Evapotranspiration  Precipitation  \\\n",
       "0  710732         144  1086190  14476800                0.59          18.99   \n",
       "1  710763         144  1086190  14476800                0.97          29.63   \n",
       "2  710791         144  1086190  14476800                1.34          29.63   \n",
       "3  710822         144  1086190  14476800                1.79          29.63   \n",
       "4  710852         144  1086190  14476800                8.23          29.63   \n",
       "\n",
       "   Irrigation_pumping  Observed  \n",
       "0                 0.0  0.145161  \n",
       "1                 0.0  0.445161  \n",
       "2                 0.0  1.332203  \n",
       "3                 0.0  2.932203  \n",
       "4                 0.0  3.728689  "
      ]
     },
     "metadata": {},
     "output_type": "display_data"
    }
   ],
   "source": [
    "waterData = pd.read_csv('RRCA_baseflow.csv')\n",
    "display(waterData.head(5))"
   ]
  },
  {
   "cell_type": "code",
   "execution_count": 31,
   "id": "042d3a66-9a7c-460b-9415-1c023160aeeb",
   "metadata": {},
   "outputs": [],
   "source": [
    "def oneLinReg(data = pd.read_csv('RRCA_baseflow.csv'), x = 'Irrigation_pumping',y='Observed'):\n",
    "    for segment in data.Segment_id.unique():\n",
    "        lm = LinearRegression()\n",
    "        \n",
    "        subdata = data[data.Segment_id==segment]\n",
    "        featureCols = [x]\n",
    "        X = subdata[featureCols]\n",
    "        y = subdata.Observed\n",
    "        \n",
    "        lm.fit(X,y)\n",
    "        plot = sns.regplot(data = subdata,x = subdata.x,y=subdata.y)\n",
    "        return lm.intercept_ ,lm.coef_, plot"
   ]
  },
  {
   "cell_type": "code",
   "execution_count": 32,
   "id": "8c75e44a-5318-475f-8f9e-eafdc899e210",
   "metadata": {},
   "outputs": [
    {
     "data": {
      "text/plain": [
       "(5.886999770249233, array([4.74987398]), <AxesSubplot:xlabel='x', ylabel='y'>)"
      ]
     },
     "metadata": {},
     "output_type": "display_data"
    },
    {
     "data": {
      "image/png": "[encoded data removed]",
      "text/plain": [
       "<Figure size 640x480 with 1 Axes>"
      ]
     },
     "metadata": {},
     "output_type": "display_data"
    }
   ],
   "source": [
    "display(oneLinReg())"
   ]
  }
 ],
 "metadata": {
  "kernelspec": {
   "display_name": "Python 3 (ipykernel)",
   "language": "python",
   "name": "python3"
  },
  "language_info": {
   "codemirror_mode": {
    "name": "ipython",
    "version": 3
   },
   "file_extension": ".py",
   "mimetype": "text/x-python",
   "name": "python",
   "nbconvert_exporter": "python",
   "pygments_lexer": "ipython3",
   "version": "3.9.13"
  }
 },
 "nbformat": 4,
 "nbformat_minor": 5
}
