{
 "cells": [
  {
   "cell_type": "markdown",
   "id": "4f34ca8b-7109-414b-9452-0bbc6730504a",
   "metadata": {},
   "source": [
    "# Linear Regression\n",
    "    1. Make 6 different regressions VS observed\n",
    "        1. Date – number of days since 01/01/0000\n",
    "        1. x - the spatial location of the gaging station at which observations are obtained\n",
    "        1. y – the spatial location of the gaging station at which observations are obtained\\\n",
    "        1. Evapotranspiration – the evapotranspiration amount of an area adjacent to the river segment in the given month\n",
    "        1. Precipitation - the precipitation amount of an area adjacent to the river segment in the given month\n",
    "        1. Irrigation pumping\n",
    "    2. Remember Date is categoircal (split by months)"
   ]
  }
 ],
 "metadata": {
  "kernelspec": {
   "display_name": "Python 3 (ipykernel)",
   "language": "python",
   "name": "python3"
  },
  "language_info": {
   "codemirror_mode": {
    "name": "ipython",
    "version": 3
   },
   "file_extension": ".py",
   "mimetype": "text/x-python",
   "name": "python",
   "nbconvert_exporter": "python",
   "pygments_lexer": "ipython3",
   "version": "3.9.13"
  }
 },
 "nbformat": 4,
 "nbformat_minor": 5
}
